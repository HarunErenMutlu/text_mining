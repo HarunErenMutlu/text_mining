{
 "cells": [
  {
   "cell_type": "code",
   "execution_count": 1,
   "metadata": {},
   "outputs": [],
   "source": [
    "import os\n",
    "from nltk import word_tokenize\n",
    "from nltk.tokenize import WordPunctTokenizer\n",
    "import string\n",
    "import re\n",
    "from nltk.corpus import stopwords\n",
    "from pattern.en import spelling"
   ]
  },
  {
   "cell_type": "code",
   "execution_count": 2,
   "metadata": {},
   "outputs": [],
   "source": [
    "def get_files(path):\n",
    "    return os.listdir(path)"
   ]
  },
  {
   "cell_type": "code",
   "execution_count": 7,
   "metadata": {},
   "outputs": [],
   "source": [
    "path_list = ['review_polarity/txt_sentoken/pos/', 'review_polarity/txt_sentoken/neg/']\n"
   ]
  },
  {
   "cell_type": "code",
   "execution_count": 8,
   "metadata": {},
   "outputs": [],
   "source": [
    "def clean(word):\n",
    "    return word.translate(re.sub(r'\\d+', '', word).maketrans('', '', string.punctuation)).lower()"
   ]
  },
  {
   "cell_type": "code",
   "execution_count": 14,
   "metadata": {},
   "outputs": [],
   "source": [
    "def clear_document(sentences):\n",
    "    new_words = ''\n",
    "    for sentence in sentences:\n",
    "        new_words += sentence.strip()\n",
    "    new_words = clean(new_words)\n",
    "    tokinezed = word_tokenize(new_words)\n",
    "    # correct_sentence = [spelling.suggest(i)[0][0] for i in tokinezed]\n",
    "    stops = stopwords.words('english')\n",
    "    filtered_words = [word for word in tokinezed if word not in stops]\n",
    "    return filtered_words"
   ]
  },
  {
   "cell_type": "code",
   "execution_count": 15,
   "metadata": {},
   "outputs": [],
   "source": [
    "pos = []\n",
    "neg = []\n",
    "for path in path_list:\n",
    "    files = get_files(path)\n",
    "    for file in files:\n",
    "        with open(path+file) as f:\n",
    "            words = f.readlines()\n",
    "        if path[-4:-1] == 'pos':\n",
    "            pos += words\n",
    "        else:\n",
    "            neg += words"
   ]
  },
  {
   "cell_type": "code",
   "execution_count": 16,
   "metadata": {},
   "outputs": [],
   "source": [
    "cleaned_document = clear_document(pos)"
   ]
  },
  {
   "cell_type": "code",
   "execution_count": 17,
   "metadata": {},
   "outputs": [],
   "source": [
    "all_documents = []\n",
    "for path in path_list:\n",
    "    files = get_files(path)\n",
    "    for file in files:\n",
    "        with open(path+file) as f:\n",
    "            words = f.readlines()\n",
    "        cleaned_document = clear_document(words)\n",
    "        all_documents.append((clear_document, path[-4:-1]))\n",
    "\n"
   ]
  },
  {
   "cell_type": "code",
   "execution_count": null,
   "metadata": {},
   "outputs": [],
   "source": []
  }
 ],
 "metadata": {
  "kernelspec": {
   "display_name": "nlp",
   "language": "python",
   "name": "python3"
  },
  "language_info": {
   "codemirror_mode": {
    "name": "ipython",
    "version": 3
   },
   "file_extension": ".py",
   "mimetype": "text/x-python",
   "name": "python",
   "nbconvert_exporter": "python",
   "pygments_lexer": "ipython3",
   "version": "3.9.0"
  },
  "orig_nbformat": 4,
  "vscode": {
   "interpreter": {
    "hash": "a9c07389fb0f2ec0aa7d6cccaab83f551270af49f798db67024d36ebb2809ca6"
   }
  }
 },
 "nbformat": 4,
 "nbformat_minor": 2
}
