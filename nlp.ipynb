{
 "cells": [
  {
   "cell_type": "code",
   "execution_count": 5,
   "metadata": {},
   "outputs": [],
   "source": [
    "import os\n",
    "from autocorrect import spell\n",
    "from autocorrect import Speller\n",
    "from nltk import word_tokenize\n",
    "from nltk.tokenize import WordPunctTokenizer\n",
    "import string\n",
    "import re\n",
    "from nltk.corpus import stopwords"
   ]
  },
  {
   "cell_type": "code",
   "execution_count": 6,
   "metadata": {},
   "outputs": [],
   "source": [
    "def get_files(path):\n",
    "    return os.listdir(path)"
   ]
  },
  {
   "cell_type": "code",
   "execution_count": 7,
   "metadata": {},
   "outputs": [],
   "source": [
    "path_list = ['review_polarity/txt_sentoken/pos/', 'review_polarity/txt_sentoken/neg/']\n"
   ]
  },
  {
   "cell_type": "code",
   "execution_count": 8,
   "metadata": {},
   "outputs": [],
   "source": [
    "def clean(word):\n",
    "    return word.translate(re.sub(r'\\d+', '', word).maketrans('', '', string.punctuation)).lower()"
   ]
  },
  {
   "cell_type": "code",
   "execution_count": 54,
   "metadata": {},
   "outputs": [],
   "source": [
    "def clear_document(sentences):\n",
    "    new_words = ''\n",
    "    speller = Speller()\n",
    "    for sentence in sentences:\n",
    "        new_words += sentence.strip()\n",
    "    new_words = clean(new_words)\n",
    "    tokinezed = word_tokenize(new_words)\n",
    "    correct_sentence = [speller(i) for i in tokinezed]\n",
    "    filtered_words = [word for word in correct_sentence if word not in stopwords.words('english')]\n",
    "    return filtered_words"
   ]
  },
  {
   "cell_type": "code",
   "execution_count": 61,
   "metadata": {},
   "outputs": [],
   "source": [
    "all_documents = []\n",
    "for path in path_list:\n",
    "    files = get_files(path)\n",
    "    for file in files:\n",
    "        with open(path+file) as f:\n",
    "            words = f.readlines()\n",
    "        cleaned_document = clear_document(words)\n",
    "        all_documents.append((clear_document, path[-4:-1]))\n",
    "\n"
   ]
  },
  {
   "cell_type": "code",
   "execution_count": null,
   "metadata": {},
   "outputs": [],
   "source": [
    "for index in range(len(all_documents)):\n",
    "    document = all_documents[index]\n",
    "    f = open(f'words_{index}.txt', 'a')\n",
    "    for word in document[0]:\n",
    "        f.write(word+\",\"+document[1]+'\\n')\n",
    "    f.close()"
   ]
  },
  {
   "cell_type": "code",
   "execution_count": null,
   "metadata": {},
   "outputs": [],
   "source": []
  }
 ],
 "metadata": {
  "kernelspec": {
   "display_name": "nlp",
   "language": "python",
   "name": "python3"
  },
  "language_info": {
   "codemirror_mode": {
    "name": "ipython",
    "version": 3
   },
   "file_extension": ".py",
   "mimetype": "text/x-python",
   "name": "python",
   "nbconvert_exporter": "python",
   "pygments_lexer": "ipython3",
   "version": "3.9.0"
  },
  "orig_nbformat": 4,
  "vscode": {
   "interpreter": {
    "hash": "a9c07389fb0f2ec0aa7d6cccaab83f551270af49f798db67024d36ebb2809ca6"
   }
  }
 },
 "nbformat": 4,
 "nbformat_minor": 2
}
